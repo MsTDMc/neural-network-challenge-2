{
  "cells": [
    {
      "cell_type": "markdown",
      "metadata": {
        "id": "alIIEHibGc3M"
      },
      "source": [
        "## Part 1: Preprocessing"
      ]
    },
    {
      "cell_type": "code",
      "execution_count": 29,
      "metadata": {
        "colab": {
          "base_uri": "https://localhost:8080/",
          "height": 325
        },
        "id": "6eDUJ4NtGc3P",
        "outputId": "2480098c-135c-4cbf-9552-018494ee8ff5"
      },
      "outputs": [
        {
          "data": {
            "text/html": [
              "<div>\n",
              "<style scoped>\n",
              "    .dataframe tbody tr th:only-of-type {\n",
              "        vertical-align: middle;\n",
              "    }\n",
              "\n",
              "    .dataframe tbody tr th {\n",
              "        vertical-align: top;\n",
              "    }\n",
              "\n",
              "    .dataframe thead th {\n",
              "        text-align: right;\n",
              "    }\n",
              "</style>\n",
              "<table border=\"1\" class=\"dataframe\">\n",
              "  <thead>\n",
              "    <tr style=\"text-align: right;\">\n",
              "      <th></th>\n",
              "      <th>Age</th>\n",
              "      <th>Attrition</th>\n",
              "      <th>BusinessTravel</th>\n",
              "      <th>Department</th>\n",
              "      <th>DistanceFromHome</th>\n",
              "      <th>Education</th>\n",
              "      <th>EducationField</th>\n",
              "      <th>EnvironmentSatisfaction</th>\n",
              "      <th>HourlyRate</th>\n",
              "      <th>JobInvolvement</th>\n",
              "      <th>...</th>\n",
              "      <th>PerformanceRating</th>\n",
              "      <th>RelationshipSatisfaction</th>\n",
              "      <th>StockOptionLevel</th>\n",
              "      <th>TotalWorkingYears</th>\n",
              "      <th>TrainingTimesLastYear</th>\n",
              "      <th>WorkLifeBalance</th>\n",
              "      <th>YearsAtCompany</th>\n",
              "      <th>YearsInCurrentRole</th>\n",
              "      <th>YearsSinceLastPromotion</th>\n",
              "      <th>YearsWithCurrManager</th>\n",
              "    </tr>\n",
              "  </thead>\n",
              "  <tbody>\n",
              "    <tr>\n",
              "      <th>0</th>\n",
              "      <td>41</td>\n",
              "      <td>Yes</td>\n",
              "      <td>Travel_Rarely</td>\n",
              "      <td>Sales</td>\n",
              "      <td>1</td>\n",
              "      <td>2</td>\n",
              "      <td>Life Sciences</td>\n",
              "      <td>2</td>\n",
              "      <td>94</td>\n",
              "      <td>3</td>\n",
              "      <td>...</td>\n",
              "      <td>3</td>\n",
              "      <td>1</td>\n",
              "      <td>0</td>\n",
              "      <td>8</td>\n",
              "      <td>0</td>\n",
              "      <td>1</td>\n",
              "      <td>6</td>\n",
              "      <td>4</td>\n",
              "      <td>0</td>\n",
              "      <td>5</td>\n",
              "    </tr>\n",
              "    <tr>\n",
              "      <th>1</th>\n",
              "      <td>49</td>\n",
              "      <td>No</td>\n",
              "      <td>Travel_Frequently</td>\n",
              "      <td>Research &amp; Development</td>\n",
              "      <td>8</td>\n",
              "      <td>1</td>\n",
              "      <td>Life Sciences</td>\n",
              "      <td>3</td>\n",
              "      <td>61</td>\n",
              "      <td>2</td>\n",
              "      <td>...</td>\n",
              "      <td>4</td>\n",
              "      <td>4</td>\n",
              "      <td>1</td>\n",
              "      <td>10</td>\n",
              "      <td>3</td>\n",
              "      <td>3</td>\n",
              "      <td>10</td>\n",
              "      <td>7</td>\n",
              "      <td>1</td>\n",
              "      <td>7</td>\n",
              "    </tr>\n",
              "    <tr>\n",
              "      <th>2</th>\n",
              "      <td>37</td>\n",
              "      <td>Yes</td>\n",
              "      <td>Travel_Rarely</td>\n",
              "      <td>Research &amp; Development</td>\n",
              "      <td>2</td>\n",
              "      <td>2</td>\n",
              "      <td>Other</td>\n",
              "      <td>4</td>\n",
              "      <td>92</td>\n",
              "      <td>2</td>\n",
              "      <td>...</td>\n",
              "      <td>3</td>\n",
              "      <td>2</td>\n",
              "      <td>0</td>\n",
              "      <td>7</td>\n",
              "      <td>3</td>\n",
              "      <td>3</td>\n",
              "      <td>0</td>\n",
              "      <td>0</td>\n",
              "      <td>0</td>\n",
              "      <td>0</td>\n",
              "    </tr>\n",
              "    <tr>\n",
              "      <th>3</th>\n",
              "      <td>33</td>\n",
              "      <td>No</td>\n",
              "      <td>Travel_Frequently</td>\n",
              "      <td>Research &amp; Development</td>\n",
              "      <td>3</td>\n",
              "      <td>4</td>\n",
              "      <td>Life Sciences</td>\n",
              "      <td>4</td>\n",
              "      <td>56</td>\n",
              "      <td>3</td>\n",
              "      <td>...</td>\n",
              "      <td>3</td>\n",
              "      <td>3</td>\n",
              "      <td>0</td>\n",
              "      <td>8</td>\n",
              "      <td>3</td>\n",
              "      <td>3</td>\n",
              "      <td>8</td>\n",
              "      <td>7</td>\n",
              "      <td>3</td>\n",
              "      <td>0</td>\n",
              "    </tr>\n",
              "    <tr>\n",
              "      <th>4</th>\n",
              "      <td>27</td>\n",
              "      <td>No</td>\n",
              "      <td>Travel_Rarely</td>\n",
              "      <td>Research &amp; Development</td>\n",
              "      <td>2</td>\n",
              "      <td>1</td>\n",
              "      <td>Medical</td>\n",
              "      <td>1</td>\n",
              "      <td>40</td>\n",
              "      <td>3</td>\n",
              "      <td>...</td>\n",
              "      <td>3</td>\n",
              "      <td>4</td>\n",
              "      <td>1</td>\n",
              "      <td>6</td>\n",
              "      <td>3</td>\n",
              "      <td>3</td>\n",
              "      <td>2</td>\n",
              "      <td>2</td>\n",
              "      <td>2</td>\n",
              "      <td>2</td>\n",
              "    </tr>\n",
              "    <tr>\n",
              "      <th>...</th>\n",
              "      <td>...</td>\n",
              "      <td>...</td>\n",
              "      <td>...</td>\n",
              "      <td>...</td>\n",
              "      <td>...</td>\n",
              "      <td>...</td>\n",
              "      <td>...</td>\n",
              "      <td>...</td>\n",
              "      <td>...</td>\n",
              "      <td>...</td>\n",
              "      <td>...</td>\n",
              "      <td>...</td>\n",
              "      <td>...</td>\n",
              "      <td>...</td>\n",
              "      <td>...</td>\n",
              "      <td>...</td>\n",
              "      <td>...</td>\n",
              "      <td>...</td>\n",
              "      <td>...</td>\n",
              "      <td>...</td>\n",
              "      <td>...</td>\n",
              "    </tr>\n",
              "    <tr>\n",
              "      <th>1465</th>\n",
              "      <td>36</td>\n",
              "      <td>No</td>\n",
              "      <td>Travel_Frequently</td>\n",
              "      <td>Research &amp; Development</td>\n",
              "      <td>23</td>\n",
              "      <td>2</td>\n",
              "      <td>Medical</td>\n",
              "      <td>3</td>\n",
              "      <td>41</td>\n",
              "      <td>4</td>\n",
              "      <td>...</td>\n",
              "      <td>3</td>\n",
              "      <td>3</td>\n",
              "      <td>1</td>\n",
              "      <td>17</td>\n",
              "      <td>3</td>\n",
              "      <td>3</td>\n",
              "      <td>5</td>\n",
              "      <td>2</td>\n",
              "      <td>0</td>\n",
              "      <td>3</td>\n",
              "    </tr>\n",
              "    <tr>\n",
              "      <th>1466</th>\n",
              "      <td>39</td>\n",
              "      <td>No</td>\n",
              "      <td>Travel_Rarely</td>\n",
              "      <td>Research &amp; Development</td>\n",
              "      <td>6</td>\n",
              "      <td>1</td>\n",
              "      <td>Medical</td>\n",
              "      <td>4</td>\n",
              "      <td>42</td>\n",
              "      <td>2</td>\n",
              "      <td>...</td>\n",
              "      <td>3</td>\n",
              "      <td>1</td>\n",
              "      <td>1</td>\n",
              "      <td>9</td>\n",
              "      <td>5</td>\n",
              "      <td>3</td>\n",
              "      <td>7</td>\n",
              "      <td>7</td>\n",
              "      <td>1</td>\n",
              "      <td>7</td>\n",
              "    </tr>\n",
              "    <tr>\n",
              "      <th>1467</th>\n",
              "      <td>27</td>\n",
              "      <td>No</td>\n",
              "      <td>Travel_Rarely</td>\n",
              "      <td>Research &amp; Development</td>\n",
              "      <td>4</td>\n",
              "      <td>3</td>\n",
              "      <td>Life Sciences</td>\n",
              "      <td>2</td>\n",
              "      <td>87</td>\n",
              "      <td>4</td>\n",
              "      <td>...</td>\n",
              "      <td>4</td>\n",
              "      <td>2</td>\n",
              "      <td>1</td>\n",
              "      <td>6</td>\n",
              "      <td>0</td>\n",
              "      <td>3</td>\n",
              "      <td>6</td>\n",
              "      <td>2</td>\n",
              "      <td>0</td>\n",
              "      <td>3</td>\n",
              "    </tr>\n",
              "    <tr>\n",
              "      <th>1468</th>\n",
              "      <td>49</td>\n",
              "      <td>No</td>\n",
              "      <td>Travel_Frequently</td>\n",
              "      <td>Sales</td>\n",
              "      <td>2</td>\n",
              "      <td>3</td>\n",
              "      <td>Medical</td>\n",
              "      <td>4</td>\n",
              "      <td>63</td>\n",
              "      <td>2</td>\n",
              "      <td>...</td>\n",
              "      <td>3</td>\n",
              "      <td>4</td>\n",
              "      <td>0</td>\n",
              "      <td>17</td>\n",
              "      <td>3</td>\n",
              "      <td>2</td>\n",
              "      <td>9</td>\n",
              "      <td>6</td>\n",
              "      <td>0</td>\n",
              "      <td>8</td>\n",
              "    </tr>\n",
              "    <tr>\n",
              "      <th>1469</th>\n",
              "      <td>34</td>\n",
              "      <td>No</td>\n",
              "      <td>Travel_Rarely</td>\n",
              "      <td>Research &amp; Development</td>\n",
              "      <td>8</td>\n",
              "      <td>3</td>\n",
              "      <td>Medical</td>\n",
              "      <td>2</td>\n",
              "      <td>82</td>\n",
              "      <td>4</td>\n",
              "      <td>...</td>\n",
              "      <td>3</td>\n",
              "      <td>1</td>\n",
              "      <td>0</td>\n",
              "      <td>6</td>\n",
              "      <td>3</td>\n",
              "      <td>4</td>\n",
              "      <td>4</td>\n",
              "      <td>3</td>\n",
              "      <td>1</td>\n",
              "      <td>2</td>\n",
              "    </tr>\n",
              "  </tbody>\n",
              "</table>\n",
              "<p>1470 rows × 27 columns</p>\n",
              "</div>"
            ],
            "text/plain": [
              "      Age Attrition     BusinessTravel              Department  \\\n",
              "0      41       Yes      Travel_Rarely                   Sales   \n",
              "1      49        No  Travel_Frequently  Research & Development   \n",
              "2      37       Yes      Travel_Rarely  Research & Development   \n",
              "3      33        No  Travel_Frequently  Research & Development   \n",
              "4      27        No      Travel_Rarely  Research & Development   \n",
              "...   ...       ...                ...                     ...   \n",
              "1465   36        No  Travel_Frequently  Research & Development   \n",
              "1466   39        No      Travel_Rarely  Research & Development   \n",
              "1467   27        No      Travel_Rarely  Research & Development   \n",
              "1468   49        No  Travel_Frequently                   Sales   \n",
              "1469   34        No      Travel_Rarely  Research & Development   \n",
              "\n",
              "      DistanceFromHome  Education EducationField  EnvironmentSatisfaction  \\\n",
              "0                    1          2  Life Sciences                        2   \n",
              "1                    8          1  Life Sciences                        3   \n",
              "2                    2          2          Other                        4   \n",
              "3                    3          4  Life Sciences                        4   \n",
              "4                    2          1        Medical                        1   \n",
              "...                ...        ...            ...                      ...   \n",
              "1465                23          2        Medical                        3   \n",
              "1466                 6          1        Medical                        4   \n",
              "1467                 4          3  Life Sciences                        2   \n",
              "1468                 2          3        Medical                        4   \n",
              "1469                 8          3        Medical                        2   \n",
              "\n",
              "      HourlyRate  JobInvolvement  ...  PerformanceRating  \\\n",
              "0             94               3  ...                  3   \n",
              "1             61               2  ...                  4   \n",
              "2             92               2  ...                  3   \n",
              "3             56               3  ...                  3   \n",
              "4             40               3  ...                  3   \n",
              "...          ...             ...  ...                ...   \n",
              "1465          41               4  ...                  3   \n",
              "1466          42               2  ...                  3   \n",
              "1467          87               4  ...                  4   \n",
              "1468          63               2  ...                  3   \n",
              "1469          82               4  ...                  3   \n",
              "\n",
              "     RelationshipSatisfaction  StockOptionLevel TotalWorkingYears  \\\n",
              "0                           1                 0                 8   \n",
              "1                           4                 1                10   \n",
              "2                           2                 0                 7   \n",
              "3                           3                 0                 8   \n",
              "4                           4                 1                 6   \n",
              "...                       ...               ...               ...   \n",
              "1465                        3                 1                17   \n",
              "1466                        1                 1                 9   \n",
              "1467                        2                 1                 6   \n",
              "1468                        4                 0                17   \n",
              "1469                        1                 0                 6   \n",
              "\n",
              "      TrainingTimesLastYear WorkLifeBalance  YearsAtCompany  \\\n",
              "0                         0               1               6   \n",
              "1                         3               3              10   \n",
              "2                         3               3               0   \n",
              "3                         3               3               8   \n",
              "4                         3               3               2   \n",
              "...                     ...             ...             ...   \n",
              "1465                      3               3               5   \n",
              "1466                      5               3               7   \n",
              "1467                      0               3               6   \n",
              "1468                      3               2               9   \n",
              "1469                      3               4               4   \n",
              "\n",
              "      YearsInCurrentRole  YearsSinceLastPromotion  YearsWithCurrManager  \n",
              "0                      4                        0                     5  \n",
              "1                      7                        1                     7  \n",
              "2                      0                        0                     0  \n",
              "3                      7                        3                     0  \n",
              "4                      2                        2                     2  \n",
              "...                  ...                      ...                   ...  \n",
              "1465                   2                        0                     3  \n",
              "1466                   7                        1                     7  \n",
              "1467                   2                        0                     3  \n",
              "1468                   6                        0                     8  \n",
              "1469                   3                        1                     2  \n",
              "\n",
              "[1470 rows x 27 columns]"
            ]
          },
          "execution_count": 29,
          "metadata": {},
          "output_type": "execute_result"
        }
      ],
      "source": [
        "# Import our dependencies\n",
        "from sklearn.model_selection import train_test_split\n",
        "from sklearn.preprocessing import StandardScaler\n",
        "import pandas as pd\n",
        "import numpy as np\n",
        "from tensorflow.keras.models import Model\n",
        "from tensorflow.keras import layers\n",
        "from sklearn.preprocessing import OneHotEncoder, LabelEncoder\n",
        "\n",
        "#  Import and read the attrition data\n",
        "attrition_df = pd.read_csv('https://static.bc-edx.com/ai/ail-v-1-0/m19/lms/datasets/attrition.csv')\n",
        "attrition_df"
      ]
    },
    {
      "cell_type": "code",
      "execution_count": 30,
      "metadata": {
        "colab": {
          "base_uri": "https://localhost:8080/"
        },
        "id": "g22aQSY4Gc3Q",
        "outputId": "1f5c13c1-b981-4e40-a7ed-dd3fe6f1b81e"
      },
      "outputs": [
        {
          "data": {
            "text/plain": [
              "Age                         43\n",
              "Attrition                    2\n",
              "BusinessTravel               3\n",
              "Department                   3\n",
              "DistanceFromHome            29\n",
              "Education                    5\n",
              "EducationField               6\n",
              "EnvironmentSatisfaction      4\n",
              "HourlyRate                  71\n",
              "JobInvolvement               4\n",
              "JobLevel                     5\n",
              "JobRole                      9\n",
              "JobSatisfaction              4\n",
              "MaritalStatus                3\n",
              "NumCompaniesWorked          10\n",
              "OverTime                     2\n",
              "PercentSalaryHike           15\n",
              "PerformanceRating            2\n",
              "RelationshipSatisfaction     4\n",
              "StockOptionLevel             4\n",
              "TotalWorkingYears           40\n",
              "TrainingTimesLastYear        7\n",
              "WorkLifeBalance              4\n",
              "YearsAtCompany              37\n",
              "YearsInCurrentRole          19\n",
              "YearsSinceLastPromotion     16\n",
              "YearsWithCurrManager        18\n",
              "dtype: int64"
            ]
          },
          "execution_count": 30,
          "metadata": {},
          "output_type": "execute_result"
        }
      ],
      "source": [
        "# Determine the number of unique values in each column.\n",
        "attrition_df.nunique()"
      ]
    },
    {
      "cell_type": "code",
      "execution_count": 6,
      "metadata": {
        "id": "50vMgBEnJbfM"
      },
      "outputs": [],
      "source": [
        "# Create y_df with the Attrition and Department columns\n",
        "y_df = attrition_df[['Attrition', 'Department']]\n"
      ]
    },
    {
      "cell_type": "code",
      "execution_count": 57,
      "metadata": {},
      "outputs": [
        {
          "data": {
            "text/plain": [
              "Attrition  Department            \n",
              "No         Research & Development    828\n",
              "           Sales                     354\n",
              "Yes        Research & Development    133\n",
              "           Sales                      92\n",
              "No         Human Resources            51\n",
              "Yes        Human Resources            12\n",
              "Name: count, dtype: int64"
            ]
          },
          "execution_count": 57,
          "metadata": {},
          "output_type": "execute_result"
        }
      ],
      "source": [
        "y_df.value_counts()"
      ]
    },
    {
      "cell_type": "code",
      "execution_count": 7,
      "metadata": {},
      "outputs": [
        {
          "data": {
            "text/plain": [
              "Education                   int64\n",
              "Age                         int64\n",
              "DistanceFromHome            int64\n",
              "JobSatisfaction             int64\n",
              "OverTime                   object\n",
              "StockOptionLevel            int64\n",
              "WorkLifeBalance             int64\n",
              "YearsAtCompany              int64\n",
              "YearsSinceLastPromotion     int64\n",
              "NumCompaniesWorked          int64\n",
              "dtype: object"
            ]
          },
          "execution_count": 7,
          "metadata": {},
          "output_type": "execute_result"
        }
      ],
      "source": [
        "# Create a list of at least 10 column names to use as X data\n",
        "X = ['Education', 'Age', 'DistanceFromHome', 'JobSatisfaction', 'OverTime', 'StockOptionLevel', 'WorkLifeBalance',\n",
        "             'YearsAtCompany', 'YearsSinceLastPromotion', 'NumCompaniesWorked']\n",
        "\n",
        "# Create X_df using your selected columns\n",
        "X_df = attrition_df[X]\n",
        "\n",
        "# Show the data types for X_df\n",
        "X_df.dtypes"
      ]
    },
    {
      "cell_type": "code",
      "execution_count": 8,
      "metadata": {
        "id": "KaJfdOGUMHMR"
      },
      "outputs": [],
      "source": [
        "# Split the data into training and testing sets\n",
        "from sklearn.model_selection import train_test_split\n",
        "X_train, X_test, y_train, y_test = train_test_split(X_df, y_df)"
      ]
    },
    {
      "cell_type": "code",
      "execution_count": 9,
      "metadata": {
        "colab": {
          "base_uri": "https://localhost:8080/"
        },
        "id": "NYubUJqiLCSp",
        "outputId": "53f31721-571c-4c94-d13e-25a715749593"
      },
      "outputs": [
        {
          "data": {
            "text/plain": [
              "OverTime\n",
              "No     786\n",
              "Yes    316\n",
              "Name: count, dtype: int64"
            ]
          },
          "execution_count": 9,
          "metadata": {},
          "output_type": "execute_result"
        }
      ],
      "source": [
        "# Convert your X data to numeric data types however you see fit\n",
        "# Add new code cells as necessary\n",
        "\n",
        "X_train['OverTime'].value_counts()"
      ]
    },
    {
      "cell_type": "code",
      "execution_count": 10,
      "metadata": {},
      "outputs": [
        {
          "data": {
            "text/plain": [
              "(1102,)"
            ]
          },
          "execution_count": 10,
          "metadata": {},
          "output_type": "execute_result"
        }
      ],
      "source": [
        "X_train['OverTime'].shape"
      ]
    },
    {
      "cell_type": "code",
      "execution_count": 11,
      "metadata": {},
      "outputs": [],
      "source": [
        "from sklearn.preprocessing import OneHotEncoder\n",
        "overtime_encoder = OneHotEncoder(sparse_output=False, drop='first', handle_unknown='ignore')\n",
        "overtime_encoder.fit(np.array(X_train['OverTime']).reshape(-1, 1))\n",
        "X_train['OverTime_encoded'] = overtime_encoder.transform(np.array(X_train['OverTime']).reshape(-1, 1))\n",
        "X_test['OverTime_encoded'] = overtime_encoder.transform(np.array(X_test['OverTime']).reshape(-1, 1))\n",
        "X_train.drop('OverTime', axis=1, inplace=True)\n",
        "X_test.drop('OverTime', axis=1, inplace=True)\n"
      ]
    },
    {
      "cell_type": "code",
      "execution_count": 12,
      "metadata": {},
      "outputs": [
        {
          "data": {
            "text/plain": [
              "Education                    int64\n",
              "Age                          int64\n",
              "DistanceFromHome             int64\n",
              "JobSatisfaction              int64\n",
              "StockOptionLevel             int64\n",
              "WorkLifeBalance              int64\n",
              "YearsAtCompany               int64\n",
              "YearsSinceLastPromotion      int64\n",
              "NumCompaniesWorked           int64\n",
              "OverTime_encoded           float64\n",
              "dtype: object"
            ]
          },
          "execution_count": 12,
          "metadata": {},
          "output_type": "execute_result"
        }
      ],
      "source": [
        "X_test.dtypes"
      ]
    },
    {
      "cell_type": "code",
      "execution_count": 13,
      "metadata": {},
      "outputs": [
        {
          "data": {
            "text/plain": [
              "Education                    int64\n",
              "Age                          int64\n",
              "DistanceFromHome             int64\n",
              "JobSatisfaction              int64\n",
              "StockOptionLevel             int64\n",
              "WorkLifeBalance              int64\n",
              "YearsAtCompany               int64\n",
              "YearsSinceLastPromotion      int64\n",
              "NumCompaniesWorked           int64\n",
              "OverTime_encoded           float64\n",
              "dtype: object"
            ]
          },
          "execution_count": 13,
          "metadata": {},
          "output_type": "execute_result"
        }
      ],
      "source": [
        "X_train.dtypes"
      ]
    },
    {
      "cell_type": "code",
      "execution_count": 14,
      "metadata": {
        "id": "EWA-aIA5Gc3T"
      },
      "outputs": [],
      "source": [
        "# Create a StandardScaler\n",
        "scaler = StandardScaler()\n",
        "\n",
        "# Fit the StandardScaler to the training data\n",
        "X_scaler = scaler.fit(X_train)\n",
        "\n",
        "# Scale the training and testing data\n",
        "X_train_scaled = X_scaler.transform(X_train)\n",
        "X_test_scaled = X_scaler.transform(X_test)\n"
      ]
    },
    {
      "cell_type": "code",
      "execution_count": 15,
      "metadata": {
        "colab": {
          "base_uri": "https://localhost:8080/"
        },
        "id": "-z0Mky8vQSz4",
        "outputId": "debefc85-c20b-48f5-f4d9-91eadd65d36a"
      },
      "outputs": [
        {
          "data": {
            "text/plain": [
              "array([[0., 0., 1.],\n",
              "       [0., 1., 0.],\n",
              "       [0., 1., 0.],\n",
              "       ...,\n",
              "       [0., 1., 0.],\n",
              "       [0., 0., 1.],\n",
              "       [0., 1., 0.]])"
            ]
          },
          "execution_count": 15,
          "metadata": {},
          "output_type": "execute_result"
        }
      ],
      "source": [
        "# Create a OneHotEncoder for the Department column\n",
        "department_encoder = OneHotEncoder(sparse_output=False, handle_unknown='ignore', drop=None)\n",
        "\n",
        "# Fit the encoder to the training data\n",
        "department_encoder.fit(np.array(y_train['Department']).reshape(-1, 1))\n",
        "\n",
        "# department_column = department_encoder.get_feature_names_out(['Department'])\n",
        "# Create two new variables by applying the encoder\n",
        "# to the training and testing data\n",
        "# department_encoded_df = pd.DataFrame(department_encoded, columns=department_column)\n",
        "y_department_train = department_encoder.transform(np.array(y_train['Department']).reshape(-1, 1))\n",
        "y_department_test = department_encoder.transform(np.array(y_test['Department']).reshape(-1, 1))\n",
        "y_department_train\n"
      ]
    },
    {
      "cell_type": "code",
      "execution_count": 16,
      "metadata": {
        "colab": {
          "base_uri": "https://localhost:8080/"
        },
        "id": "-G4DSpvFRrk4",
        "outputId": "9842e948-8a55-4b80-8fac-f96714e85589"
      },
      "outputs": [
        {
          "data": {
            "text/plain": [
              "array([[1., 0.],\n",
              "       [1., 0.],\n",
              "       [1., 0.],\n",
              "       ...,\n",
              "       [1., 0.],\n",
              "       [1., 0.],\n",
              "       [1., 0.]])"
            ]
          },
          "execution_count": 16,
          "metadata": {},
          "output_type": "execute_result"
        }
      ],
      "source": [
        "# Create a OneHotEncoder for the Attrition column\n",
        "attrition_encoder = OneHotEncoder(sparse_output=False, )\n",
        "\n",
        "# Fit the encoder to the training data\n",
        "attrition_encoded = attrition_encoder.fit(np.array(y_df['Attrition']).reshape(-1, 1))\n",
        "y_attrition_train = attrition_encoder.transform(np.array(y_train['Attrition']).reshape(-1, 1))\n",
        "y_attrition_test = attrition_encoder.transform(np.array(y_test['Attrition']).reshape(-1, 1))\n",
        "# Create two new variables by applying the encoder\n",
        "# to the training and testing data\n",
        "\n",
        "y_attrition_train"
      ]
    },
    {
      "cell_type": "markdown",
      "metadata": {
        "id": "ykNmu_WWGc3T"
      },
      "source": [
        "## Create, Compile, and Train the Model"
      ]
    },
    {
      "cell_type": "code",
      "execution_count": 32,
      "metadata": {},
      "outputs": [
        {
          "data": {
            "text/plain": [
              "10"
            ]
          },
          "execution_count": 32,
          "metadata": {},
          "output_type": "execute_result"
        }
      ],
      "source": [
        "# Find the number of columns in the X training data\n",
        "number_input_features = len(X_train.columns)\n",
        "number_input_features"
      ]
    },
    {
      "cell_type": "code",
      "execution_count": 37,
      "metadata": {
        "id": "WUptZqmSGc3T"
      },
      "outputs": [],
      "source": [
        "\n",
        "# Create the input layer\n",
        "input_layer = layers.Input(number_input_features, name='input_layer')\n",
        "\n",
        "# Create at least two shared layers\n",
        "shared_layer1 = layers.Dense(64, activation='relu', name='shared_layer1')(input_layer)\n",
        "shared_layer2 = layers.Dense(128, activation='relu', name='shared_layer2')(shared_layer1)"
      ]
    },
    {
      "cell_type": "code",
      "execution_count": 43,
      "metadata": {
        "id": "JukjTm2yTEqd"
      },
      "outputs": [],
      "source": [
        "# Create a branch for Department\n",
        "# with a hidden layer and an output layer\n",
        "department_branch = layers.Dense(32, activation='relu', name='department_branch')(shared_layer2)\n",
        "# Create the hidden layer\n",
        "# dpt_hidden_layer = layers.Dense(8, activation='relu', name='hidden_layer')(department_branch)\n",
        "\n",
        "# Create the output layer\n",
        "dpt_output_layer = layers.Dense(y_department_train.shape[1], activation='softmax', name='dpt_output_layer')(department_branch)\n"
      ]
    },
    {
      "cell_type": "code",
      "execution_count": 44,
      "metadata": {
        "id": "9OqhUiOJUBkR"
      },
      "outputs": [],
      "source": [
        "# Create a branch for Attrition\n",
        "# with a hidden layer and an output layer\n",
        "attrition_branch = layers.Dense(32, activation='relu', name='attrition_branch')(shared_layer2)\n",
        "# Create the hidden layer\n",
        "# attr_hidden_layer = layers.Dense(8, activation='relu', name='hidden_layer')(attrition_branch)\n",
        "\n",
        "# Create the output layer\n",
        "attr_output_layer = layers.Dense(y_attrition_train.shape[1], activation='softmax', name='attr_output_layer')(attrition_branch)   \n"
      ]
    },
    {
      "cell_type": "code",
      "execution_count": 47,
      "metadata": {},
      "outputs": [
        {
          "name": "stdout",
          "output_type": "stream",
          "text": [
            "Model: \"model_7\"\n",
            "__________________________________________________________________________________________________\n",
            " Layer (type)                   Output Shape         Param #     Connected to                     \n",
            "==================================================================================================\n",
            " input_layer (InputLayer)       [(None, 10)]         0           []                               \n",
            "                                                                                                  \n",
            " shared_layer1 (Dense)          (None, 64)           704         ['input_layer[0][0]']            \n",
            "                                                                                                  \n",
            " shared_layer2 (Dense)          (None, 128)          8320        ['shared_layer1[0][0]']          \n",
            "                                                                                                  \n",
            " department_branch (Dense)      (None, 32)           4128        ['shared_layer2[0][0]']          \n",
            "                                                                                                  \n",
            " attrition_branch (Dense)       (None, 32)           4128        ['shared_layer2[0][0]']          \n",
            "                                                                                                  \n",
            " dpt_output_layer (Dense)       (None, 3)            99          ['department_branch[0][0]']      \n"
          ]
        },
        {
          "name": "stdout",
          "output_type": "stream",
          "text": [
            "                                                                                                  \n",
            " attr_output_layer (Dense)      (None, 2)            66          ['attrition_branch[0][0]']       \n",
            "                                                                                                  \n",
            "==================================================================================================\n",
            "Total params: 17,445\n",
            "Trainable params: 17,445\n",
            "Non-trainable params: 0\n",
            "__________________________________________________________________________________________________\n"
          ]
        }
      ],
      "source": [
        "# Create the model\n",
        "model = Model(\n",
        "    inputs=input_layer, \n",
        "    outputs=[dpt_output_layer, \n",
        "        attr_output_layer\n",
        "        ])\n",
        "\n",
        "# Compile the model\n",
        "model.compile(optimizer='adam',\n",
        "              loss={\n",
        "                  'dpt_output_layer': 'categorical_crossentropy',\n",
        "                  'attr_output_layer': 'binary_crossentropy'\n",
        "              },\n",
        "              metrics={\n",
        "                  'dpt_output_layer': 'accuracy',\n",
        "                  'attr_output_layer': 'accuracy'\n",
        "              })\n",
        "# Summarize the model\n",
        "model.summary()"
      ]
    },
    {
      "cell_type": "code",
      "execution_count": 48,
      "metadata": {},
      "outputs": [
        {
          "name": "stdout",
          "output_type": "stream",
          "text": [
            "Epoch 1/100\n",
            "35/35 - 4s - loss: 1.3972 - dpt_output_layer_loss: 0.8762 - attr_output_layer_loss: 0.5209 - dpt_output_layer_accuracy: 0.6316 - attr_output_layer_accuracy: 0.8122 - 4s/epoch - 102ms/step\n",
            "Epoch 2/100\n",
            "35/35 - 0s - loss: 1.1817 - dpt_output_layer_loss: 0.7735 - attr_output_layer_loss: 0.4082 - dpt_output_layer_accuracy: 0.6624 - attr_output_layer_accuracy: 0.8394 - 214ms/epoch - 6ms/step\n",
            "Epoch 3/100\n",
            "35/35 - 0s - loss: 1.1453 - dpt_output_layer_loss: 0.7634 - attr_output_layer_loss: 0.3820 - dpt_output_layer_accuracy: 0.6624 - attr_output_layer_accuracy: 0.8503 - 231ms/epoch - 7ms/step\n",
            "Epoch 4/100\n",
            "35/35 - 0s - loss: 1.1219 - dpt_output_layer_loss: 0.7568 - attr_output_layer_loss: 0.3650 - dpt_output_layer_accuracy: 0.6624 - attr_output_layer_accuracy: 0.8603 - 214ms/epoch - 6ms/step\n",
            "Epoch 5/100\n",
            "35/35 - 0s - loss: 1.1042 - dpt_output_layer_loss: 0.7469 - attr_output_layer_loss: 0.3573 - dpt_output_layer_accuracy: 0.6624 - attr_output_layer_accuracy: 0.8630 - 251ms/epoch - 7ms/step\n",
            "Epoch 6/100\n",
            "35/35 - 1s - loss: 1.0880 - dpt_output_layer_loss: 0.7395 - attr_output_layer_loss: 0.3485 - dpt_output_layer_accuracy: 0.6624 - attr_output_layer_accuracy: 0.8657 - 525ms/epoch - 15ms/step\n",
            "Epoch 7/100\n",
            "35/35 - 0s - loss: 1.0773 - dpt_output_layer_loss: 0.7357 - attr_output_layer_loss: 0.3415 - dpt_output_layer_accuracy: 0.6633 - attr_output_layer_accuracy: 0.8711 - 491ms/epoch - 14ms/step\n",
            "Epoch 8/100\n",
            "35/35 - 0s - loss: 1.0600 - dpt_output_layer_loss: 0.7242 - attr_output_layer_loss: 0.3358 - dpt_output_layer_accuracy: 0.6706 - attr_output_layer_accuracy: 0.8711 - 373ms/epoch - 11ms/step\n",
            "Epoch 9/100\n",
            "35/35 - 0s - loss: 1.0457 - dpt_output_layer_loss: 0.7159 - attr_output_layer_loss: 0.3298 - dpt_output_layer_accuracy: 0.6688 - attr_output_layer_accuracy: 0.8702 - 259ms/epoch - 7ms/step\n",
            "Epoch 10/100\n",
            "35/35 - 0s - loss: 1.0344 - dpt_output_layer_loss: 0.7099 - attr_output_layer_loss: 0.3245 - dpt_output_layer_accuracy: 0.6751 - attr_output_layer_accuracy: 0.8766 - 304ms/epoch - 9ms/step\n",
            "Epoch 11/100\n",
            "35/35 - 0s - loss: 1.0192 - dpt_output_layer_loss: 0.6999 - attr_output_layer_loss: 0.3192 - dpt_output_layer_accuracy: 0.6770 - attr_output_layer_accuracy: 0.8784 - 253ms/epoch - 7ms/step\n",
            "Epoch 12/100\n",
            "35/35 - 0s - loss: 1.0127 - dpt_output_layer_loss: 0.6994 - attr_output_layer_loss: 0.3133 - dpt_output_layer_accuracy: 0.6797 - attr_output_layer_accuracy: 0.8793 - 246ms/epoch - 7ms/step\n",
            "Epoch 13/100\n",
            "35/35 - 0s - loss: 0.9979 - dpt_output_layer_loss: 0.6889 - attr_output_layer_loss: 0.3090 - dpt_output_layer_accuracy: 0.6851 - attr_output_layer_accuracy: 0.8857 - 249ms/epoch - 7ms/step\n",
            "Epoch 14/100\n",
            "35/35 - 0s - loss: 0.9783 - dpt_output_layer_loss: 0.6738 - attr_output_layer_loss: 0.3045 - dpt_output_layer_accuracy: 0.6951 - attr_output_layer_accuracy: 0.8829 - 248ms/epoch - 7ms/step\n",
            "Epoch 15/100\n",
            "35/35 - 0s - loss: 0.9646 - dpt_output_layer_loss: 0.6664 - attr_output_layer_loss: 0.2982 - dpt_output_layer_accuracy: 0.6942 - attr_output_layer_accuracy: 0.8829 - 239ms/epoch - 7ms/step\n",
            "Epoch 16/100\n",
            "35/35 - 0s - loss: 0.9500 - dpt_output_layer_loss: 0.6547 - attr_output_layer_loss: 0.2953 - dpt_output_layer_accuracy: 0.7015 - attr_output_layer_accuracy: 0.8893 - 248ms/epoch - 7ms/step\n",
            "Epoch 17/100\n",
            "35/35 - 0s - loss: 0.9326 - dpt_output_layer_loss: 0.6441 - attr_output_layer_loss: 0.2884 - dpt_output_layer_accuracy: 0.7132 - attr_output_layer_accuracy: 0.8884 - 253ms/epoch - 7ms/step\n",
            "Epoch 18/100\n",
            "35/35 - 0s - loss: 0.9182 - dpt_output_layer_loss: 0.6337 - attr_output_layer_loss: 0.2845 - dpt_output_layer_accuracy: 0.7178 - attr_output_layer_accuracy: 0.8920 - 231ms/epoch - 7ms/step\n",
            "Epoch 19/100\n",
            "35/35 - 0s - loss: 0.9129 - dpt_output_layer_loss: 0.6298 - attr_output_layer_loss: 0.2831 - dpt_output_layer_accuracy: 0.7223 - attr_output_layer_accuracy: 0.8938 - 207ms/epoch - 6ms/step\n",
            "Epoch 20/100\n",
            "35/35 - 0s - loss: 0.8842 - dpt_output_layer_loss: 0.6101 - attr_output_layer_loss: 0.2741 - dpt_output_layer_accuracy: 0.7396 - attr_output_layer_accuracy: 0.8911 - 271ms/epoch - 8ms/step\n",
            "Epoch 21/100\n",
            "35/35 - 0s - loss: 0.8627 - dpt_output_layer_loss: 0.5973 - attr_output_layer_loss: 0.2654 - dpt_output_layer_accuracy: 0.7477 - attr_output_layer_accuracy: 0.8984 - 215ms/epoch - 6ms/step\n",
            "Epoch 22/100\n",
            "35/35 - 0s - loss: 0.8465 - dpt_output_layer_loss: 0.5837 - attr_output_layer_loss: 0.2628 - dpt_output_layer_accuracy: 0.7514 - attr_output_layer_accuracy: 0.8975 - 224ms/epoch - 6ms/step\n",
            "Epoch 23/100\n",
            "35/35 - 0s - loss: 0.8320 - dpt_output_layer_loss: 0.5772 - attr_output_layer_loss: 0.2548 - dpt_output_layer_accuracy: 0.7577 - attr_output_layer_accuracy: 0.9011 - 227ms/epoch - 6ms/step\n",
            "Epoch 24/100\n",
            "35/35 - 0s - loss: 0.8149 - dpt_output_layer_loss: 0.5642 - attr_output_layer_loss: 0.2507 - dpt_output_layer_accuracy: 0.7604 - attr_output_layer_accuracy: 0.9029 - 205ms/epoch - 6ms/step\n",
            "Epoch 25/100\n",
            "35/35 - 0s - loss: 0.7933 - dpt_output_layer_loss: 0.5467 - attr_output_layer_loss: 0.2466 - dpt_output_layer_accuracy: 0.7722 - attr_output_layer_accuracy: 0.8993 - 228ms/epoch - 7ms/step\n",
            "Epoch 26/100\n",
            "35/35 - 0s - loss: 0.7682 - dpt_output_layer_loss: 0.5263 - attr_output_layer_loss: 0.2419 - dpt_output_layer_accuracy: 0.7786 - attr_output_layer_accuracy: 0.9093 - 233ms/epoch - 7ms/step\n",
            "Epoch 27/100\n",
            "35/35 - 0s - loss: 0.7582 - dpt_output_layer_loss: 0.5165 - attr_output_layer_loss: 0.2418 - dpt_output_layer_accuracy: 0.7795 - attr_output_layer_accuracy: 0.9093 - 277ms/epoch - 8ms/step\n",
            "Epoch 28/100\n",
            "35/35 - 0s - loss: 0.7578 - dpt_output_layer_loss: 0.5196 - attr_output_layer_loss: 0.2382 - dpt_output_layer_accuracy: 0.7804 - attr_output_layer_accuracy: 0.9111 - 287ms/epoch - 8ms/step\n",
            "Epoch 29/100\n",
            "35/35 - 0s - loss: 0.7150 - dpt_output_layer_loss: 0.4892 - attr_output_layer_loss: 0.2258 - dpt_output_layer_accuracy: 0.7940 - attr_output_layer_accuracy: 0.9156 - 223ms/epoch - 6ms/step\n",
            "Epoch 30/100\n",
            "35/35 - 0s - loss: 0.6894 - dpt_output_layer_loss: 0.4732 - attr_output_layer_loss: 0.2163 - dpt_output_layer_accuracy: 0.8167 - attr_output_layer_accuracy: 0.9211 - 241ms/epoch - 7ms/step\n",
            "Epoch 31/100\n",
            "35/35 - 0s - loss: 0.6950 - dpt_output_layer_loss: 0.4789 - attr_output_layer_loss: 0.2161 - dpt_output_layer_accuracy: 0.7967 - attr_output_layer_accuracy: 0.9192 - 253ms/epoch - 7ms/step\n",
            "Epoch 32/100\n",
            "35/35 - 1s - loss: 0.6547 - dpt_output_layer_loss: 0.4488 - attr_output_layer_loss: 0.2059 - dpt_output_layer_accuracy: 0.8240 - attr_output_layer_accuracy: 0.9211 - 688ms/epoch - 20ms/step\n",
            "Epoch 33/100\n",
            "35/35 - 1s - loss: 0.6294 - dpt_output_layer_loss: 0.4246 - attr_output_layer_loss: 0.2048 - dpt_output_layer_accuracy: 0.8403 - attr_output_layer_accuracy: 0.9201 - 661ms/epoch - 19ms/step\n",
            "Epoch 34/100\n",
            "35/35 - 0s - loss: 0.6154 - dpt_output_layer_loss: 0.4144 - attr_output_layer_loss: 0.2010 - dpt_output_layer_accuracy: 0.8249 - attr_output_layer_accuracy: 0.9256 - 400ms/epoch - 11ms/step\n",
            "Epoch 35/100\n",
            "35/35 - 0s - loss: 0.6033 - dpt_output_layer_loss: 0.4088 - attr_output_layer_loss: 0.1944 - dpt_output_layer_accuracy: 0.8430 - attr_output_layer_accuracy: 0.9238 - 226ms/epoch - 6ms/step\n",
            "Epoch 36/100\n",
            "35/35 - 1s - loss: 0.5814 - dpt_output_layer_loss: 0.3962 - attr_output_layer_loss: 0.1852 - dpt_output_layer_accuracy: 0.8457 - attr_output_layer_accuracy: 0.9283 - 508ms/epoch - 15ms/step\n",
            "Epoch 37/100\n",
            "35/35 - 0s - loss: 0.5548 - dpt_output_layer_loss: 0.3711 - attr_output_layer_loss: 0.1837 - dpt_output_layer_accuracy: 0.8566 - attr_output_layer_accuracy: 0.9283 - 296ms/epoch - 8ms/step\n",
            "Epoch 38/100\n",
            "35/35 - 0s - loss: 0.5398 - dpt_output_layer_loss: 0.3711 - attr_output_layer_loss: 0.1687 - dpt_output_layer_accuracy: 0.8530 - attr_output_layer_accuracy: 0.9437 - 365ms/epoch - 10ms/step\n",
            "Epoch 39/100\n",
            "35/35 - 0s - loss: 0.5260 - dpt_output_layer_loss: 0.3478 - attr_output_layer_loss: 0.1781 - dpt_output_layer_accuracy: 0.8657 - attr_output_layer_accuracy: 0.9328 - 290ms/epoch - 8ms/step\n",
            "Epoch 40/100\n",
            "35/35 - 0s - loss: 0.5045 - dpt_output_layer_loss: 0.3404 - attr_output_layer_loss: 0.1642 - dpt_output_layer_accuracy: 0.8766 - attr_output_layer_accuracy: 0.9465 - 403ms/epoch - 12ms/step\n",
            "Epoch 41/100\n",
            "35/35 - 0s - loss: 0.4767 - dpt_output_layer_loss: 0.3209 - attr_output_layer_loss: 0.1559 - dpt_output_layer_accuracy: 0.8857 - attr_output_layer_accuracy: 0.9483 - 417ms/epoch - 12ms/step\n",
            "Epoch 42/100\n",
            "35/35 - 0s - loss: 0.4715 - dpt_output_layer_loss: 0.3142 - attr_output_layer_loss: 0.1573 - dpt_output_layer_accuracy: 0.8884 - attr_output_layer_accuracy: 0.9465 - 314ms/epoch - 9ms/step\n",
            "Epoch 43/100\n",
            "35/35 - 0s - loss: 0.4541 - dpt_output_layer_loss: 0.3066 - attr_output_layer_loss: 0.1475 - dpt_output_layer_accuracy: 0.8866 - attr_output_layer_accuracy: 0.9465 - 248ms/epoch - 7ms/step\n",
            "Epoch 44/100\n",
            "35/35 - 0s - loss: 0.4507 - dpt_output_layer_loss: 0.2943 - attr_output_layer_loss: 0.1564 - dpt_output_layer_accuracy: 0.8993 - attr_output_layer_accuracy: 0.9428 - 248ms/epoch - 7ms/step\n",
            "Epoch 45/100\n",
            "35/35 - 0s - loss: 0.4478 - dpt_output_layer_loss: 0.2888 - attr_output_layer_loss: 0.1590 - dpt_output_layer_accuracy: 0.8975 - attr_output_layer_accuracy: 0.9492 - 214ms/epoch - 6ms/step\n",
            "Epoch 46/100\n",
            "35/35 - 0s - loss: 0.4123 - dpt_output_layer_loss: 0.2758 - attr_output_layer_loss: 0.1364 - dpt_output_layer_accuracy: 0.9011 - attr_output_layer_accuracy: 0.9601 - 400ms/epoch - 11ms/step\n",
            "Epoch 47/100\n",
            "35/35 - 0s - loss: 0.4007 - dpt_output_layer_loss: 0.2643 - attr_output_layer_loss: 0.1364 - dpt_output_layer_accuracy: 0.9038 - attr_output_layer_accuracy: 0.9510 - 210ms/epoch - 6ms/step\n",
            "Epoch 48/100\n",
            "35/35 - 0s - loss: 0.3912 - dpt_output_layer_loss: 0.2548 - attr_output_layer_loss: 0.1364 - dpt_output_layer_accuracy: 0.9165 - attr_output_layer_accuracy: 0.9555 - 314ms/epoch - 9ms/step\n",
            "Epoch 49/100\n",
            "35/35 - 0s - loss: 0.3737 - dpt_output_layer_loss: 0.2478 - attr_output_layer_loss: 0.1260 - dpt_output_layer_accuracy: 0.9147 - attr_output_layer_accuracy: 0.9555 - 387ms/epoch - 11ms/step\n",
            "Epoch 50/100\n",
            "35/35 - 0s - loss: 0.3457 - dpt_output_layer_loss: 0.2305 - attr_output_layer_loss: 0.1152 - dpt_output_layer_accuracy: 0.9265 - attr_output_layer_accuracy: 0.9637 - 295ms/epoch - 8ms/step\n",
            "Epoch 51/100\n",
            "35/35 - 0s - loss: 0.3435 - dpt_output_layer_loss: 0.2247 - attr_output_layer_loss: 0.1188 - dpt_output_layer_accuracy: 0.9283 - attr_output_layer_accuracy: 0.9619 - 283ms/epoch - 8ms/step\n",
            "Epoch 52/100\n",
            "35/35 - 0s - loss: 0.3191 - dpt_output_layer_loss: 0.2077 - attr_output_layer_loss: 0.1114 - dpt_output_layer_accuracy: 0.9383 - attr_output_layer_accuracy: 0.9664 - 216ms/epoch - 6ms/step\n",
            "Epoch 53/100\n",
            "35/35 - 0s - loss: 0.3108 - dpt_output_layer_loss: 0.2058 - attr_output_layer_loss: 0.1051 - dpt_output_layer_accuracy: 0.9446 - attr_output_layer_accuracy: 0.9691 - 312ms/epoch - 9ms/step\n",
            "Epoch 54/100\n",
            "35/35 - 0s - loss: 0.2999 - dpt_output_layer_loss: 0.1966 - attr_output_layer_loss: 0.1033 - dpt_output_layer_accuracy: 0.9474 - attr_output_layer_accuracy: 0.9646 - 390ms/epoch - 11ms/step\n",
            "Epoch 55/100\n",
            "35/35 - 0s - loss: 0.3106 - dpt_output_layer_loss: 0.2017 - attr_output_layer_loss: 0.1089 - dpt_output_layer_accuracy: 0.9365 - attr_output_layer_accuracy: 0.9610 - 363ms/epoch - 10ms/step\n",
            "Epoch 56/100\n",
            "35/35 - 0s - loss: 0.3033 - dpt_output_layer_loss: 0.2026 - attr_output_layer_loss: 0.1008 - dpt_output_layer_accuracy: 0.9310 - attr_output_layer_accuracy: 0.9637 - 397ms/epoch - 11ms/step\n",
            "Epoch 57/100\n",
            "35/35 - 0s - loss: 0.2660 - dpt_output_layer_loss: 0.1769 - attr_output_layer_loss: 0.0891 - dpt_output_layer_accuracy: 0.9528 - attr_output_layer_accuracy: 0.9764 - 273ms/epoch - 8ms/step\n",
            "Epoch 58/100\n",
            "35/35 - 0s - loss: 0.2641 - dpt_output_layer_loss: 0.1662 - attr_output_layer_loss: 0.0979 - dpt_output_layer_accuracy: 0.9564 - attr_output_layer_accuracy: 0.9719 - 368ms/epoch - 11ms/step\n",
            "Epoch 59/100\n",
            "35/35 - 0s - loss: 0.2461 - dpt_output_layer_loss: 0.1585 - attr_output_layer_loss: 0.0876 - dpt_output_layer_accuracy: 0.9610 - attr_output_layer_accuracy: 0.9782 - 254ms/epoch - 7ms/step\n",
            "Epoch 60/100\n",
            "35/35 - 0s - loss: 0.2325 - dpt_output_layer_loss: 0.1543 - attr_output_layer_loss: 0.0782 - dpt_output_layer_accuracy: 0.9673 - attr_output_layer_accuracy: 0.9791 - 197ms/epoch - 6ms/step\n",
            "Epoch 61/100\n",
            "35/35 - 0s - loss: 0.2237 - dpt_output_layer_loss: 0.1477 - attr_output_layer_loss: 0.0761 - dpt_output_layer_accuracy: 0.9610 - attr_output_layer_accuracy: 0.9791 - 461ms/epoch - 13ms/step\n",
            "Epoch 62/100\n",
            "35/35 - 0s - loss: 0.2112 - dpt_output_layer_loss: 0.1370 - attr_output_layer_loss: 0.0742 - dpt_output_layer_accuracy: 0.9682 - attr_output_layer_accuracy: 0.9809 - 223ms/epoch - 6ms/step\n",
            "Epoch 63/100\n",
            "35/35 - 0s - loss: 0.2134 - dpt_output_layer_loss: 0.1402 - attr_output_layer_loss: 0.0731 - dpt_output_layer_accuracy: 0.9673 - attr_output_layer_accuracy: 0.9809 - 218ms/epoch - 6ms/step\n",
            "Epoch 64/100\n",
            "35/35 - 0s - loss: 0.2172 - dpt_output_layer_loss: 0.1473 - attr_output_layer_loss: 0.0699 - dpt_output_layer_accuracy: 0.9555 - attr_output_layer_accuracy: 0.9809 - 208ms/epoch - 6ms/step\n",
            "Epoch 65/100\n",
            "35/35 - 0s - loss: 0.2227 - dpt_output_layer_loss: 0.1566 - attr_output_layer_loss: 0.0661 - dpt_output_layer_accuracy: 0.9546 - attr_output_layer_accuracy: 0.9800 - 215ms/epoch - 6ms/step\n",
            "Epoch 66/100\n",
            "35/35 - 0s - loss: 0.1915 - dpt_output_layer_loss: 0.1263 - attr_output_layer_loss: 0.0652 - dpt_output_layer_accuracy: 0.9682 - attr_output_layer_accuracy: 0.9837 - 340ms/epoch - 10ms/step\n",
            "Epoch 67/100\n",
            "35/35 - 0s - loss: 0.1764 - dpt_output_layer_loss: 0.1114 - attr_output_layer_loss: 0.0650 - dpt_output_layer_accuracy: 0.9719 - attr_output_layer_accuracy: 0.9791 - 259ms/epoch - 7ms/step\n",
            "Epoch 68/100\n",
            "35/35 - 0s - loss: 0.1987 - dpt_output_layer_loss: 0.1442 - attr_output_layer_loss: 0.0545 - dpt_output_layer_accuracy: 0.9564 - attr_output_layer_accuracy: 0.9855 - 308ms/epoch - 9ms/step\n",
            "Epoch 69/100\n",
            "35/35 - 0s - loss: 0.1802 - dpt_output_layer_loss: 0.1217 - attr_output_layer_loss: 0.0585 - dpt_output_layer_accuracy: 0.9673 - attr_output_layer_accuracy: 0.9864 - 245ms/epoch - 7ms/step\n",
            "Epoch 70/100\n",
            "35/35 - 0s - loss: 0.1555 - dpt_output_layer_loss: 0.1033 - attr_output_layer_loss: 0.0523 - dpt_output_layer_accuracy: 0.9764 - attr_output_layer_accuracy: 0.9855 - 228ms/epoch - 7ms/step\n",
            "Epoch 71/100\n",
            "35/35 - 0s - loss: 0.1441 - dpt_output_layer_loss: 0.0940 - attr_output_layer_loss: 0.0501 - dpt_output_layer_accuracy: 0.9828 - attr_output_layer_accuracy: 0.9837 - 202ms/epoch - 6ms/step\n",
            "Epoch 72/100\n",
            "35/35 - 0s - loss: 0.1434 - dpt_output_layer_loss: 0.0905 - attr_output_layer_loss: 0.0530 - dpt_output_layer_accuracy: 0.9828 - attr_output_layer_accuracy: 0.9855 - 229ms/epoch - 7ms/step\n",
            "Epoch 73/100\n",
            "35/35 - 0s - loss: 0.1431 - dpt_output_layer_loss: 0.0941 - attr_output_layer_loss: 0.0490 - dpt_output_layer_accuracy: 0.9809 - attr_output_layer_accuracy: 0.9873 - 206ms/epoch - 6ms/step\n",
            "Epoch 74/100\n",
            "35/35 - 0s - loss: 0.1287 - dpt_output_layer_loss: 0.0855 - attr_output_layer_loss: 0.0431 - dpt_output_layer_accuracy: 0.9809 - attr_output_layer_accuracy: 0.9864 - 221ms/epoch - 6ms/step\n",
            "Epoch 75/100\n",
            "35/35 - 0s - loss: 0.1328 - dpt_output_layer_loss: 0.0902 - attr_output_layer_loss: 0.0426 - dpt_output_layer_accuracy: 0.9800 - attr_output_layer_accuracy: 0.9909 - 193ms/epoch - 6ms/step\n",
            "Epoch 76/100\n",
            "35/35 - 0s - loss: 0.1307 - dpt_output_layer_loss: 0.0854 - attr_output_layer_loss: 0.0453 - dpt_output_layer_accuracy: 0.9819 - attr_output_layer_accuracy: 0.9855 - 225ms/epoch - 6ms/step\n",
            "Epoch 77/100\n",
            "35/35 - 0s - loss: 0.1225 - dpt_output_layer_loss: 0.0795 - attr_output_layer_loss: 0.0430 - dpt_output_layer_accuracy: 0.9846 - attr_output_layer_accuracy: 0.9900 - 188ms/epoch - 5ms/step\n",
            "Epoch 78/100\n",
            "35/35 - 0s - loss: 0.1168 - dpt_output_layer_loss: 0.0783 - attr_output_layer_loss: 0.0385 - dpt_output_layer_accuracy: 0.9828 - attr_output_layer_accuracy: 0.9909 - 183ms/epoch - 5ms/step\n",
            "Epoch 79/100\n",
            "35/35 - 0s - loss: 0.1139 - dpt_output_layer_loss: 0.0778 - attr_output_layer_loss: 0.0362 - dpt_output_layer_accuracy: 0.9837 - attr_output_layer_accuracy: 0.9900 - 193ms/epoch - 6ms/step\n",
            "Epoch 80/100\n",
            "35/35 - 0s - loss: 0.1145 - dpt_output_layer_loss: 0.0779 - attr_output_layer_loss: 0.0366 - dpt_output_layer_accuracy: 0.9873 - attr_output_layer_accuracy: 0.9936 - 205ms/epoch - 6ms/step\n",
            "Epoch 81/100\n",
            "35/35 - 0s - loss: 0.1103 - dpt_output_layer_loss: 0.0773 - attr_output_layer_loss: 0.0330 - dpt_output_layer_accuracy: 0.9828 - attr_output_layer_accuracy: 0.9918 - 350ms/epoch - 10ms/step\n",
            "Epoch 82/100\n",
            "35/35 - 0s - loss: 0.1059 - dpt_output_layer_loss: 0.0704 - attr_output_layer_loss: 0.0356 - dpt_output_layer_accuracy: 0.9882 - attr_output_layer_accuracy: 0.9918 - 281ms/epoch - 8ms/step\n",
            "Epoch 83/100\n",
            "35/35 - 0s - loss: 0.0928 - dpt_output_layer_loss: 0.0619 - attr_output_layer_loss: 0.0309 - dpt_output_layer_accuracy: 0.9891 - attr_output_layer_accuracy: 0.9918 - 213ms/epoch - 6ms/step\n",
            "Epoch 84/100\n",
            "35/35 - 0s - loss: 0.0922 - dpt_output_layer_loss: 0.0619 - attr_output_layer_loss: 0.0303 - dpt_output_layer_accuracy: 0.9864 - attr_output_layer_accuracy: 0.9909 - 274ms/epoch - 8ms/step\n",
            "Epoch 85/100\n",
            "35/35 - 0s - loss: 0.0889 - dpt_output_layer_loss: 0.0619 - attr_output_layer_loss: 0.0271 - dpt_output_layer_accuracy: 0.9882 - attr_output_layer_accuracy: 0.9927 - 200ms/epoch - 6ms/step\n",
            "Epoch 86/100\n",
            "35/35 - 0s - loss: 0.0962 - dpt_output_layer_loss: 0.0651 - attr_output_layer_loss: 0.0311 - dpt_output_layer_accuracy: 0.9855 - attr_output_layer_accuracy: 0.9936 - 215ms/epoch - 6ms/step\n",
            "Epoch 87/100\n",
            "35/35 - 0s - loss: 0.1003 - dpt_output_layer_loss: 0.0721 - attr_output_layer_loss: 0.0282 - dpt_output_layer_accuracy: 0.9800 - attr_output_layer_accuracy: 0.9946 - 232ms/epoch - 7ms/step\n",
            "Epoch 88/100\n",
            "35/35 - 0s - loss: 0.0851 - dpt_output_layer_loss: 0.0588 - attr_output_layer_loss: 0.0262 - dpt_output_layer_accuracy: 0.9909 - attr_output_layer_accuracy: 0.9936 - 235ms/epoch - 7ms/step\n",
            "Epoch 89/100\n",
            "35/35 - 0s - loss: 0.0785 - dpt_output_layer_loss: 0.0488 - attr_output_layer_loss: 0.0297 - dpt_output_layer_accuracy: 0.9918 - attr_output_layer_accuracy: 0.9909 - 202ms/epoch - 6ms/step\n",
            "Epoch 90/100\n",
            "35/35 - 0s - loss: 0.0778 - dpt_output_layer_loss: 0.0508 - attr_output_layer_loss: 0.0270 - dpt_output_layer_accuracy: 0.9918 - attr_output_layer_accuracy: 0.9927 - 433ms/epoch - 12ms/step\n",
            "Epoch 91/100\n",
            "35/35 - 0s - loss: 0.0819 - dpt_output_layer_loss: 0.0499 - attr_output_layer_loss: 0.0321 - dpt_output_layer_accuracy: 0.9909 - attr_output_layer_accuracy: 0.9909 - 235ms/epoch - 7ms/step\n",
            "Epoch 92/100\n",
            "35/35 - 0s - loss: 0.0672 - dpt_output_layer_loss: 0.0458 - attr_output_layer_loss: 0.0214 - dpt_output_layer_accuracy: 0.9918 - attr_output_layer_accuracy: 0.9973 - 250ms/epoch - 7ms/step\n",
            "Epoch 93/100\n",
            "35/35 - 0s - loss: 0.0838 - dpt_output_layer_loss: 0.0641 - attr_output_layer_loss: 0.0197 - dpt_output_layer_accuracy: 0.9819 - attr_output_layer_accuracy: 0.9946 - 326ms/epoch - 9ms/step\n",
            "Epoch 94/100\n",
            "35/35 - 0s - loss: 0.0807 - dpt_output_layer_loss: 0.0557 - attr_output_layer_loss: 0.0249 - dpt_output_layer_accuracy: 0.9882 - attr_output_layer_accuracy: 0.9936 - 220ms/epoch - 6ms/step\n",
            "Epoch 95/100\n",
            "35/35 - 0s - loss: 0.0749 - dpt_output_layer_loss: 0.0512 - attr_output_layer_loss: 0.0237 - dpt_output_layer_accuracy: 0.9864 - attr_output_layer_accuracy: 0.9936 - 230ms/epoch - 7ms/step\n",
            "Epoch 96/100\n",
            "35/35 - 0s - loss: 0.0584 - dpt_output_layer_loss: 0.0401 - attr_output_layer_loss: 0.0184 - dpt_output_layer_accuracy: 0.9955 - attr_output_layer_accuracy: 0.9964 - 203ms/epoch - 6ms/step\n",
            "Epoch 97/100\n",
            "35/35 - 0s - loss: 0.0508 - dpt_output_layer_loss: 0.0347 - attr_output_layer_loss: 0.0161 - dpt_output_layer_accuracy: 0.9955 - attr_output_layer_accuracy: 0.9973 - 347ms/epoch - 10ms/step\n",
            "Epoch 98/100\n",
            "35/35 - 0s - loss: 0.0491 - dpt_output_layer_loss: 0.0324 - attr_output_layer_loss: 0.0167 - dpt_output_layer_accuracy: 0.9946 - attr_output_layer_accuracy: 0.9964 - 219ms/epoch - 6ms/step\n",
            "Epoch 99/100\n",
            "35/35 - 0s - loss: 0.0502 - dpt_output_layer_loss: 0.0314 - attr_output_layer_loss: 0.0188 - dpt_output_layer_accuracy: 0.9955 - attr_output_layer_accuracy: 0.9973 - 207ms/epoch - 6ms/step\n",
            "Epoch 100/100\n",
            "35/35 - 0s - loss: 0.0460 - dpt_output_layer_loss: 0.0304 - attr_output_layer_loss: 0.0156 - dpt_output_layer_accuracy: 0.9982 - attr_output_layer_accuracy: 0.9964 - 372ms/epoch - 11ms/step\n"
          ]
        },
        {
          "data": {
            "text/plain": [
              "<keras.callbacks.History at 0x2cce5b743d0>"
            ]
          },
          "execution_count": 48,
          "metadata": {},
          "output_type": "execute_result"
        }
      ],
      "source": [
        "# Train the model\n",
        "model.fit(\n",
        "    X_train_scaled,\n",
        "    {'attr_output_layer': y_attrition_train, 'dpt_output_layer': y_department_train},\n",
        "    epochs=100,\n",
        "    shuffle=True,\n",
        "    verbose=2\n",
        ")"
      ]
    },
    {
      "cell_type": "code",
      "execution_count": 51,
      "metadata": {},
      "outputs": [
        {
          "name": "stdout",
          "output_type": "stream",
          "text": [
            "12/12 [==============================] - 1s 13ms/step - loss: 4.0296 - dpt_output_layer_loss: 2.6345 - attr_output_layer_loss: 1.3951 - dpt_output_layer_accuracy: 0.5652 - attr_output_layer_accuracy: 0.8071\n"
          ]
        },
        {
          "data": {
            "text/plain": [
              "[4.0296196937561035,\n",
              " 2.634476900100708,\n",
              " 1.3951423168182373,\n",
              " 0.5652173757553101,\n",
              " 0.8070651888847351]"
            ]
          },
          "execution_count": 51,
          "metadata": {},
          "output_type": "execute_result"
        }
      ],
      "source": [
        "# Evaluate the model with the testing data\n",
        "# test_results = model.evaluate(X_test_scaled, y_test, verbose=2)\n",
        "results = model.evaluate(X_test_scaled, {\n",
        "        'dpt_output_layer': y_department_test,\n",
        "        'attr_output_layer': y_attrition_test\n",
        "    })\n",
        "results"
      ]
    },
    {
      "cell_type": "code",
      "execution_count": 52,
      "metadata": {},
      "outputs": [
        {
          "name": "stdout",
          "output_type": "stream",
          "text": [
            "Department predictions accuracy: 0.5652173757553101\n",
            "Attrition predictions accuracy: 0.8070651888847351\n"
          ]
        }
      ],
      "source": [
        "## COPIED CELL ##\n",
        "# Print the accuracy for both department and attrition\n",
        "print(f'Department predictions accuracy: {results[3]}')\n",
        "print(f'Attrition predictions accuracy: {results[4]}')"
      ]
    },
    {
      "cell_type": "markdown",
      "metadata": {
        "id": "eGSyfsZfWOQM"
      },
      "source": [
        "# Summary\n",
        "\n",
        "In the provided space below, briefly answer the following questions.\n",
        "\n",
        "1. Is accuracy the best metric to use on this data? Why or why not?\n",
        "\n",
        "2. What activation functions did you choose for your output layers, and why?\n",
        "\n",
        "3. Can you name a few ways that this model might be improved?"
      ]
    },
    {
      "cell_type": "markdown",
      "metadata": {
        "id": "pi9SLpFnWvbF"
      },
      "source": [
        "YOUR ANSWERS HERE\n",
        "\n",
        "1. Accuracy is not the best metric to check how good the model is in this case due to the imbalanced classes in the data set. Along with accuracy we could use f1 score or calculate balanced accuracy score vs just accuracy score.\n",
        "2. The activation function I chose was softmax, sigmoid could also be used. \n",
        "3. One way this model could be improved is by adding more columns in the preprocessing step for features or bringing in more training data. This model could also been improved during the modeling step by modifying the number of layers in the neural network or by using different activation functions.  "
      ]
    },
    {
      "cell_type": "markdown",
      "metadata": {},
      "source": []
    }
  ],
  "metadata": {
    "colab": {
      "provenance": []
    },
    "kernelspec": {
      "display_name": "Python 3",
      "language": "python",
      "name": "python3"
    },
    "language_info": {
      "codemirror_mode": {
        "name": "ipython",
        "version": 3
      },
      "file_extension": ".py",
      "mimetype": "text/x-python",
      "name": "python",
      "nbconvert_exporter": "python",
      "pygments_lexer": "ipython3",
      "version": "3.10.13"
    },
    "vscode": {
      "interpreter": {
        "hash": "31f2aee4e71d21fbe5cf8b01ff0e069b9275f58929596ceb00d14d90e3e16cd6"
      }
    }
  },
  "nbformat": 4,
  "nbformat_minor": 0
}
